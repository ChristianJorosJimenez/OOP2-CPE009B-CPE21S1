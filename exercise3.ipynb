{
  "nbformat": 4,
  "nbformat_minor": 0,
  "metadata": {
    "colab": {
      "provenance": [],
      "authorship_tag": "ABX9TyN50/u3HkeH4t509SnlYmgJ",
      "include_colab_link": true
    },
    "kernelspec": {
      "name": "python3",
      "display_name": "Python 3"
    },
    "language_info": {
      "name": "python"
    }
  },
  "cells": [
    {
      "cell_type": "markdown",
      "metadata": {
        "id": "view-in-github",
        "colab_type": "text"
      },
      "source": [
        "<a href=\"https://colab.research.google.com/github/ChristianJorosJimenez/OOP2-CPE009B-CPE21S1/blob/main/exercise3.ipynb\" target=\"_parent\"><img src=\"https://colab.research.google.com/assets/colab-badge.svg\" alt=\"Open In Colab\"/></a>"
      ]
    },
    {
      "cell_type": "code",
      "execution_count": 1,
      "metadata": {
        "colab": {
          "base_uri": "https://localhost:8080/"
        },
        "id": "VbT_Ejajbasg",
        "outputId": "fa08e820-5088-471d-e4dc-53cc8b7de7fc"
      },
      "outputs": [
        {
          "output_type": "stream",
          "name": "stdout",
          "text": [
            "enter rectangle length: 54\n",
            "enter rectangle width: 32\n",
            "Perimeter is : 172.0\n",
            "Area is : 1728.0\n"
          ]
        }
      ],
      "source": [
        "class Rectangle:\n",
        "    \"\"\"Represents a rectangle with length and width.\"\"\"\n",
        "\n",
        "    def __init__(self, length, width):\n",
        "        \"\"\"Initializes a Rectangle object.\n",
        "\n",
        "        Args:\n",
        "            length: The length of the rectangle.\n",
        "            width: The width of the rectangle.\n",
        "        \"\"\"\n",
        "        self.length = length\n",
        "        self.width = width\n",
        "\n",
        "    def perimeter(self):\n",
        "        \"\"\"Calculates the perimeter of the rectangle.\n",
        "\n",
        "        Returns:\n",
        "            The perimeter of the rectangle.\n",
        "        \"\"\"\n",
        "        return 2 * (self.length + self.width)\n",
        "\n",
        "    def area(self):\n",
        "        \"\"\"Calculates the area of the rectangle.\n",
        "\n",
        "        Returns:\n",
        "            The area of the rectangle.\n",
        "        \"\"\"\n",
        "        return self.length * self.width\n",
        "\n",
        "length = float(input(\"enter rectangle length: \"))\n",
        "width = float(input(\"enter rectangle width: \"))\n",
        "\n",
        "rect = Rectangle(length, width)\n",
        "\n",
        "print(f\"Perimeter is : {rect.perimeter()}\")\n",
        "print(f\"Area is : {rect.area()}\")"
      ]
    }
  ]
}