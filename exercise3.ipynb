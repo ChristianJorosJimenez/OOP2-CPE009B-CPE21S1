{
  "nbformat": 4,
  "nbformat_minor": 0,
  "metadata": {
    "colab": {
      "provenance": [],
      "authorship_tag": "ABX9TyOhDO9sWPxrZD+qFLbfdZBP",
      "include_colab_link": true
    },
    "kernelspec": {
      "name": "python3",
      "display_name": "Python 3"
    },
    "language_info": {
      "name": "python"
    }
  },
  "cells": [
    {
      "cell_type": "markdown",
      "metadata": {
        "id": "view-in-github",
        "colab_type": "text"
      },
      "source": [
        "<a href=\"https://colab.research.google.com/github/ChristianJorosJimenez/OOP2-CPE009B-CPE21S1/blob/main/exercise3.ipynb\" target=\"_parent\"><img src=\"https://colab.research.google.com/assets/colab-badge.svg\" alt=\"Open In Colab\"/></a>"
      ]
    },
    {
      "cell_type": "code",
      "execution_count": 2,
      "metadata": {
        "colab": {
          "base_uri": "https://localhost:8080/"
        },
        "id": "VbT_Ejajbasg",
        "outputId": "bbb779a9-08d5-4323-d7ed-d2dbd7f4620d"
      },
      "outputs": [
        {
          "output_type": "stream",
          "name": "stdout",
          "text": [
            "Enter rectangle length: 412\n",
            "Enter rectangle width: 23\n",
            "Perimeter is: 870.0\n",
            "Area is: 9476.0\n"
          ]
        }
      ],
      "source": [
        "class Rectangle:\n",
        "    def __init__(self, length, width):\n",
        "        self.length = length\n",
        "        self.width = width\n",
        "\n",
        "    def perimeter(self):\n",
        "        return 2 * (self.length + self.width)\n",
        "\n",
        "    def area(self):\n",
        "        return self.length * self.width\n",
        "\n",
        "length = float(input(\"Enter rectangle length: \"))\n",
        "width = float(input(\"Enter rectangle width: \"))\n",
        "\n",
        "rect = Rectangle(length, width)\n",
        "\n",
        "print(f\"Perimeter is: {rect.perimeter()}\")\n",
        "print(f\"Area is: {rect.area()}\")"
      ]
    }
  ]
}