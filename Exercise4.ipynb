{
  "nbformat": 4,
  "nbformat_minor": 0,
  "metadata": {
    "colab": {
      "provenance": [],
      "authorship_tag": "ABX9TyO+8NY/1q6O8pERmzrsh/YX",
      "include_colab_link": true
    },
    "kernelspec": {
      "name": "python3",
      "display_name": "Python 3"
    },
    "language_info": {
      "name": "python"
    }
  },
  "cells": [
    {
      "cell_type": "markdown",
      "metadata": {
        "id": "view-in-github",
        "colab_type": "text"
      },
      "source": [
        "<a href=\"https://colab.research.google.com/github/ChristianJorosJimenez/OOP2-CPE009B-CPE21S1/blob/main/Exercise4.ipynb\" target=\"_parent\"><img src=\"https://colab.research.google.com/assets/colab-badge.svg\" alt=\"Open In Colab\"/></a>"
      ]
    },
    {
      "cell_type": "markdown",
      "source": [
        "Christian Joros Jimenez CPE21S1"
      ],
      "metadata": {
        "id": "KlIWsRDyS3JK"
      }
    },
    {
      "cell_type": "code",
      "execution_count": 10,
      "metadata": {
        "colab": {
          "base_uri": "https://localhost:8080/"
        },
        "id": "ABEWYhtjKvtC",
        "outputId": "3223b9ca-687d-4e41-bddd-1a53de62307c"
      },
      "outputs": [
        {
          "output_type": "execute_result",
          "data": {
            "text/plain": [
              "7"
            ]
          },
          "metadata": {},
          "execution_count": 10
        }
      ],
      "source": [
        "class foo:\n",
        "    def __init__(self, a, b):\n",
        "      self.a=a\n",
        "      self.b=b\n",
        "    def add(self):\n",
        "     return (self.a+self.b)\n",
        "foo_object=foo(3,4)\n",
        "foo_object.add()\n"
      ]
    },
    {
      "cell_type": "code",
      "source": [
        "class Person:\n",
        "  def __init__(self, name, age):\n",
        "    self.name = name\n",
        "    self.age = age\n",
        "  def display(self):\n",
        "    return f\"My name is {self.name} and my age is {self.age}\"\n",
        "\n",
        "p1 = Person(\"Jax\", 15)\n",
        "p1.display()"
      ],
      "metadata": {
        "colab": {
          "base_uri": "https://localhost:8080/",
          "height": 35
        },
        "id": "xzY5lHwAO6Qr",
        "outputId": "3697392e-e4ff-4bb2-bff4-5dfcbb513db5"
      },
      "execution_count": 12,
      "outputs": [
        {
          "output_type": "execute_result",
          "data": {
            "text/plain": [
              "'My name is Jax and my age is 15'"
            ],
            "application/vnd.google.colaboratory.intrinsic+json": {
              "type": "string"
            }
          },
          "metadata": {},
          "execution_count": 12
        }
      ]
    },
    {
      "cell_type": "code",
      "source": [
        "class counter:\n",
        "  def __init__(self):\n",
        "    self.current = 0\n",
        "\n",
        "  def increment(self):\n",
        "    self.current += 1\n",
        "\n",
        "  def value(self):\n",
        "    return self.current\n",
        "  def reset(self):\n",
        "    self.current = 0\n",
        "\n",
        "counter = counter()\n"
      ],
      "metadata": {
        "id": "6Ud5FUiJP1fk"
      },
      "execution_count": 15,
      "outputs": []
    },
    {
      "cell_type": "code",
      "source": [
        "class RegularPolygon:\n",
        "  def __init__(self, side, color):\n",
        "    self.side = side\n",
        "class Square(RegularPolygon):\n",
        "  def area(self):\n",
        "    return self.side * self.side\n",
        "  class EquilateralTriangle(RegularPolygon):\n",
        "    def area(self):\n",
        "      return self.side * self.side * 0.433"
      ],
      "metadata": {
        "id": "f7QfEcHBRB3K"
      },
      "execution_count": 17,
      "outputs": []
    },
    {
      "cell_type": "markdown",
      "source": [
        "Application 1"
      ],
      "metadata": {
        "id": "0NSXZeAOS8Y6"
      }
    },
    {
      "cell_type": "code",
      "source": [
        "class Person:\n",
        "  def __init__(self, std1, std2, std3, prelim, midterm, finals):\n",
        "    self.std1 = std1\n",
        "    self.std2 = std2\n",
        "    self.std3 = std3\n",
        "    self.prelim = prelim\n",
        "    self.midterm = midterm\n",
        "    self.finals = finals\n",
        "\n",
        "  def Grade(self):\n",
        "    self.prelim_avg = (self.std1.prelim + self.std2.prelim + self.std3.prelim) / 3\n",
        "    self.midterm_avg = (self.std1.midterm + self.std2.midterm + self.std3.midterm) / 3\n",
        "    self.finals_avg = (self.std1.finals + self.std2.finals + self.std3.finals) / 3\n",
        "\n",
        "    print(\"Prelim Average:\", self.prelim_avg)\n",
        "    print(\"Midterm Average:\", self.midterm_avg)\n",
        "    print(\"Finals Average:\", self.finals_avg)\n",
        "\n",
        "    print(\"\\nIndividual Student Grades:\")\n",
        "    print(f\"{self.std1.name}: Prelim - {self.std1.prelim}, Midterm - {self.std1.midterm}, Finals - {self.std1.finals}, Average - {(self.std1.prelim + self.std1.midterm + self.std1.finals) / 3}\")\n",
        "    print(f\"{self.std2.name}: Prelim - {self.std2.prelim}, Midterm - {self.std2.midterm}, Finals - {self.std2.finals}, Average - {(self.std2.prelim + self.std2.midterm + self.std2.finals) / 3}\")\n",
        "    print(f\"{self.std3.name}: Prelim - {self.std3.prelim}, Midterm - {self.std3.midterm}, Finals - {self.std3.finals}, Average - {(self.std3.prelim + self.std3.midterm + self.std3.finals) / 3}\")\n",
        "\n",
        "class Student:\n",
        "  def __init__(self, name, prelim, midterm, finals):\n",
        "    self.name = name\n",
        "    self.prelim = prelim\n",
        "    self.midterm = midterm\n",
        "    self.finals = finals\n",
        "\n",
        "std1 = Student(\"Student 1\", 67, 78, 89)\n",
        "std2 = Student(\"Student 2\", 70, 83, 97)\n",
        "std3 = Student(\"Student 3\", 82, 97, 98)\n",
        "\n",
        "person = Person(std1, std2, std3, None, None, None)\n",
        "\n",
        "person.Grade()"
      ],
      "metadata": {
        "colab": {
          "base_uri": "https://localhost:8080/"
        },
        "id": "OkFUeVHhS9zC",
        "outputId": "abe5a559-f7f7-4cad-d3e6-59c6cc498411"
      },
      "execution_count": 18,
      "outputs": [
        {
          "output_type": "stream",
          "name": "stdout",
          "text": [
            "Prelim Average: 73.0\n",
            "Midterm Average: 86.0\n",
            "Finals Average: 94.66666666666667\n",
            "\n",
            "Individual Student Grades:\n",
            "Student 1: Prelim - 67, Midterm - 78, Finals - 89, Average - 78.0\n",
            "Student 2: Prelim - 70, Midterm - 83, Finals - 97, Average - 83.33333333333333\n",
            "Student 3: Prelim - 82, Midterm - 97, Finals - 98, Average - 92.33333333333333\n"
          ]
        }
      ]
    }
  ]
}