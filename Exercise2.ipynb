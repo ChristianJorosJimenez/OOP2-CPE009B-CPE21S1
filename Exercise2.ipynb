{
  "nbformat": 4,
  "nbformat_minor": 0,
  "metadata": {
    "colab": {
      "provenance": [],
      "authorship_tag": "ABX9TyPE88bRa8XQO10Rat5kwJwj",
      "include_colab_link": true
    },
    "kernelspec": {
      "name": "python3",
      "display_name": "Python 3"
    },
    "language_info": {
      "name": "python"
    }
  },
  "cells": [
    {
      "cell_type": "markdown",
      "metadata": {
        "id": "view-in-github",
        "colab_type": "text"
      },
      "source": [
        "<a href=\"https://colab.research.google.com/github/ChristianJorosJimenez/OOP2-CPE009B-CPE21S1/blob/main/Exercise2.ipynb\" target=\"_parent\"><img src=\"https://colab.research.google.com/assets/colab-badge.svg\" alt=\"Open In Colab\"/></a>"
      ]
    },
    {
      "cell_type": "code",
      "execution_count": null,
      "metadata": {
        "id": "2vbUPAb-Vlf_"
      },
      "outputs": [],
      "source": []
    },
    {
      "cell_type": "markdown",
      "source": [
        "**Christian Joros Jimenez CPE21S1**"
      ],
      "metadata": {
        "id": "SxEmcr9VVmfA"
      }
    },
    {
      "cell_type": "code",
      "source": [
        "\n",
        "  grade = float(input(\"Enter your grade: \"))\n",
        "\n",
        "  if grade > 100 or grade < 0:\n",
        "    print(\"Grade is Invalid\")\n",
        "  elif grade >= 75:\n",
        "    print(\"You passed\")\n",
        "  elif grade == 74:\n",
        "    print(\"Remedial\")\n",
        "  else:\n",
        "    print(\"Failed\")"
      ],
      "metadata": {
        "colab": {
          "base_uri": "https://localhost:8080/"
        },
        "id": "Qe0meTt6VsOI",
        "outputId": "2a404cd1-0ff0-407e-c414-1a321506dbf6"
      },
      "execution_count": 10,
      "outputs": [
        {
          "output_type": "stream",
          "name": "stdout",
          "text": [
            "Enter your grade: 55\n",
            "Failed\n"
          ]
        }
      ]
    }
  ]
}